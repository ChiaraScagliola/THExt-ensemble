{
  "cells": [
    {
      "cell_type": "markdown",
      "metadata": {
        "id": "F7rnm0L_Zblp"
      },
      "source": [
        "# Task 1 ( Fine-Tuning CNN Dailymail Dataset )"
      ]
    },
    {
      "cell_type": "code",
      "execution_count": null,
      "metadata": {
        "id": "hJ2EeuYyZuy6"
      },
      "outputs": [],
      "source": [
        "from google.colab import drive\n",
        "\n",
        "drive.mount('/content/drive')"
      ]
    },
    {
      "cell_type": "code",
      "execution_count": null,
      "metadata": {
        "id": "2QuBUZwuZy4b"
      },
      "outputs": [],
      "source": [
        "%cd /content/drive/MyDrive/THExt-ensemble-main"
      ]
    },
    {
      "cell_type": "code",
      "execution_count": null,
      "metadata": {
        "id": "NPDqwEBJobVl"
      },
      "outputs": [],
      "source": [
        "!pip install -r requirements.txt"
      ]
    },
    {
      "cell_type": "code",
      "source": [
        "!python -m spacy download en_core_web_lg"
      ],
      "metadata": {
        "id": "a-YBzDvxuQh-"
      },
      "execution_count": null,
      "outputs": []
    },
    {
      "cell_type": "code",
      "execution_count": null,
      "metadata": {
        "id": "xtlGAr5pZs6n"
      },
      "outputs": [],
      "source": [
        "from finetuning import finetuning\n",
        "import pandas as pd\n",
        "import rouge\n",
        "import numpy as np\n",
        "from datasets import load_dataset\n",
        "from Thext import SentenceRankerPlus\n",
        "from Thext import Highlighter\n",
        "from Thext import RedundancyManager\n",
        "import nltk\n",
        "nltk.download('punkt')\n",
        "nltk.download('stopwords')\n"
      ]
    },
    {
      "cell_type": "code",
      "source": [
        "finetuning(\"dataset_fine_tuning_THExt.csv\", \"checkpoint\")"
      ],
      "metadata": {
        "id": "4WFd1EWo5lve"
      },
      "execution_count": null,
      "outputs": []
    },
    {
      "cell_type": "markdown",
      "metadata": {
        "id": "-CT8PCfEIDSZ"
      },
      "source": [
        "**Evaluate**"
      ]
    },
    {
      "cell_type": "code",
      "execution_count": null,
      "metadata": {
        "id": "dd_-B9iaIE5R"
      },
      "outputs": [],
      "source": [
        "def evaluate(text, hs,  sentences):\n",
        "\n",
        "    predicted_highlights_concat = ' '.join(map(str, sentences))\n",
        "    real_highlights_concat =  hs\n",
        "\n",
        "    r_computer = rouge.Rouge(metrics=['rouge-n', 'rouge-l'], limit_length=False, max_n=2, alpha=0.5, stemming=False)\n",
        "    score = r_computer.get_scores(predicted_highlights_concat,real_highlights_concat) \n",
        "\n",
        "    return score['rouge-1']['f'],score['rouge-2']['f'], score['rouge-l']['f']"
      ]
    },
    {
      "cell_type": "code",
      "execution_count": null,
      "metadata": {
        "id": "xZNQi2XkcCqR"
      },
      "outputs": [],
      "source": [
        "data = load_dataset(\"cnn_dailymail\" ,\"3.0.0\", split=\"validation\")\n",
        "data = pd.DataFrame(data).iloc[:1000]"
      ]
    },
    {
      "cell_type": "code",
      "execution_count": null,
      "metadata": {
        "id": "KyTUY934bvFb"
      },
      "outputs": [],
      "source": [
        "model_name_or_path='checkpoint' \n",
        "base_model_name = \"morenolq/thext-cs-scibert\""
      ]
    },
    {
      "cell_type": "code",
      "execution_count": null,
      "metadata": {
        "id": "AlqLTuwTaibN"
      },
      "outputs": [],
      "source": [
        "sr = SentenceRankerPlus(device='cuda')\n",
        "sr.load_model(base_model_name=base_model_name, model_name_or_path=model_name_or_path,device='cuda')\n",
        "rm = RedundancyManager()\n",
        "h = Highlighter(sr, redundancy_manager = rm)"
      ]
    },
    {
      "cell_type": "code",
      "execution_count": null,
      "metadata": {
        "id": "A-PlhWqkbydm"
      },
      "outputs": [],
      "source": [
        "r1_f = np.array([])\n",
        "r2_f = np.array([])\n",
        "rl_f = np.array([])"
      ]
    },
    {
      "cell_type": "code",
      "execution_count": null,
      "metadata": {
        "id": "VINOlLVob81_"
      },
      "outputs": [],
      "source": [
        "for i in range(len(data)):\n",
        "  text = data.iloc[i]['article']\n",
        "  highlights = data.iloc[i]['highlights']\n",
        "\n",
        "  sum = h.get_highlights_simple(text, abstract = True, rel_w=1.0, pos_w=0.0, red_w=0.0, prefilter=False, NH = 3)\n",
        "\n",
        "\n",
        "  r1f,r2f,rlf = evaluate(text, highlights, sentences = sum)\n",
        "\n",
        "  r1_f = np.append(r1_f,r1f)\n",
        "  r2_f = np.append(r2_f,r2f)\n",
        "  rl_f = np.append(rl_f,rlf)"
      ]
    },
    {
      "cell_type": "code",
      "execution_count": null,
      "metadata": {
        "id": "BgNR_pzFIX2Q"
      },
      "outputs": [],
      "source": [
        "print(f\"Avarage Rougue-1 f1 score : { np.average(r1_f) }\")\n",
        "print(f\"Avarage Rougue-2 f1 score : { np.average(r2_f) }\")\n",
        "print(f\"Avarage Rougue-l f1 score : { np.average(rl_f) }\")"
      ]
    },
    {
      "cell_type": "markdown",
      "metadata": {
        "id": "TOXf2gbvsg20"
      },
      "source": [
        "# Task 2 ( Ensemble method )"
      ]
    },
    {
      "cell_type": "code",
      "execution_count": 6,
      "metadata": {
        "id": "7dEV05rqJvR1"
      },
      "outputs": [],
      "source": [
        "from datasets import load_dataset\n",
        "import pandas as pd\n",
        "from utils import Ensemble\n",
        "from datasets import load_dataset\n",
        "import rouge\n",
        "import pandas as pd\n",
        "import numpy as np"
      ]
    },
    {
      "cell_type": "markdown",
      "metadata": {
        "id": "PRk7e8aEF5m6"
      },
      "source": [
        "**Fit models**"
      ]
    },
    {
      "cell_type": "code",
      "execution_count": null,
      "metadata": {
        "id": "IX5PkKWFCeYb"
      },
      "outputs": [],
      "source": [
        "from sklearn.linear_model import LassoCV\n",
        "\n",
        "random_ensamble = Ensemble(\"RandomForest\")\n",
        "sgd_ensamble = Ensemble(\"sgd\")\n",
        "lasso_ensamble = Ensemble(model = LassoCV(cv=5, random_state=0))\n",
        "\n",
        "data = pd.read_csv(\"data_train.csv\") \n",
        "\n",
        "X = data[['text_rank', 'lsa_score', 'tf_idf', 'relevance_score', 'thext_score', 'pos_i']]\n",
        "y = data['rouge_2f']\n",
        "\n",
        "random_ensamble.train(X,y)\n",
        "sgd_ensamble.train(X,y)\n",
        "lasso_ensamble.train(X,y)\n",
        "\n",
        "random_ensamble.save(\"random\")\n",
        "sgd_ensamble.save(\"sgd\")\n",
        "lasso_ensamble.save(\"lasso\")\n",
        "\n"
      ]
    },
    {
      "cell_type": "markdown",
      "metadata": {
        "id": "_MFtYMCpIDO8"
      },
      "source": [
        "**Test models**"
      ]
    },
    {
      "cell_type": "code",
      "execution_count": null,
      "metadata": {
        "id": "r6T5qRcLDD0Y"
      },
      "outputs": [],
      "source": [
        "#random_ensamble.load(\"random\")\n",
        "#sgd_ensamble.load(\"sgd\")\n",
        "#lasso_ensamble.load(\"lasso\")\n",
        "\n",
        "data = load_dataset(\"cnn_dailymail\" ,\"3.0.0\", split=\"validation\")\n",
        "data = pd.DataFrame(data).iloc[:1000]"
      ]
    },
    {
      "cell_type": "code",
      "execution_count": null,
      "metadata": {
        "id": "x0zKqCSjLjPq"
      },
      "outputs": [],
      "source": [
        "def evaluate(model, data):\n",
        "\tr1_f = []\n",
        "\tr2_f = []\n",
        "\trl_f = []\n",
        "\tfor i in range(len(data)):\n",
        "\t\ttext = data.iloc[i]['article']\n",
        "\t\thighlights = data.iloc[i]['highlights']\n",
        "\t\tr1f,r2f,rlf = model.evaluate(text, highlights)\n",
        "\t\tr1_f.append(r1f)\n",
        "\t\tr2_f.append(r2f)\n",
        "\t\trl_f.append(rlf)\n",
        "\tprint(f\"Avarage Rougue-1 f1 score : { np.average(r1_f) }\")\n",
        "\tprint(f\"Avarage Rougue-2 f1 score : { np.average(r2_f) }\")\n",
        "\tprint(f\"Avarage Rougue-l f1 score : { np.average(rl_f) }\")"
      ]
    },
    {
      "cell_type": "code",
      "execution_count": null,
      "metadata": {
        "id": "AA9gGQNVIofG"
      },
      "outputs": [],
      "source": [
        "evaluate(random_ensamble, data)"
      ]
    },
    {
      "cell_type": "code",
      "execution_count": null,
      "metadata": {
        "id": "cs3H-a4lOuk-"
      },
      "outputs": [],
      "source": [
        "evaluate(sgd_ensamble, data)"
      ]
    },
    {
      "cell_type": "code",
      "execution_count": null,
      "metadata": {
        "id": "DFJ4WXI0PS2w"
      },
      "outputs": [],
      "source": [
        "evaluate(lasso_ensamble, data)"
      ]
    },
    {
      "cell_type": "markdown",
      "metadata": {
        "id": "wWbfZkSTPeVc"
      },
      "source": [
        "**Independent set method**"
      ]
    },
    {
      "cell_type": "code",
      "execution_count": null,
      "metadata": {
        "id": "VFfrWtCBPzNk"
      },
      "outputs": [],
      "source": [
        "from utils import RedundancyIndipendentSet"
      ]
    },
    {
      "cell_type": "code",
      "execution_count": null,
      "metadata": {
        "id": "6jA-2wakTGeY"
      },
      "outputs": [],
      "source": [
        "random_ensamble.load(\"random\")\n",
        "\n",
        "data = load_dataset(\"cnn_dailymail\" ,\"3.0.0\", split=\"validation\")\n",
        "data = pd.DataFrame(data).iloc[:1000]"
      ]
    },
    {
      "cell_type": "code",
      "execution_count": null,
      "metadata": {
        "id": "sSO8zgiQaLva"
      },
      "outputs": [],
      "source": [
        "r = RedundancyIndipendentSet()\n",
        "\n",
        "r1_f = np.array([])\n",
        "r2_f = np.array([])\n",
        "rl_f = np.array([])\n",
        "r1_f_ind = np.array([])\n",
        "r2_f_ind = np.array([])\n",
        "rl_f_ind = np.array([])"
      ]
    },
    {
      "cell_type": "code",
      "execution_count": null,
      "metadata": {
        "id": "XbJdfc6eaGpv"
      },
      "outputs": [],
      "source": [
        "for i in range(len(data)):\n",
        "\n",
        "  text = data.iloc[i]['article']\n",
        "  highlights = data.iloc[i]['highlights']\n",
        "\n",
        "  sum = random_ensamble.summary(text, NH = 3)\n",
        "  sum_redundancy = random_ensamble.summary(text, NH = 5, score=True)\n",
        "  ind = r.indipendent_set(sum_redundancy)\n",
        "\n",
        "  r1f_ind,r2f_ind,rlf_ind = random_ensamble.evaluate(text, highlights, sent = ind )\n",
        "  r1f,r2f,rlf = random_ensamble.evaluate(text, highlights, sent = sum)\n",
        "\n",
        "  r1_f = np.append(r1_f,r1f)\n",
        "  r2_f = np.append(r2_f,r2f)\n",
        "  rl_f = np.append(rl_f,rlf)\n",
        "  r1_f_ind = np.append(r1_f_ind,r1f_ind)\n",
        "  r2_f_ind = np.append(r2_f_ind,r2f_ind)\n",
        "  rl_f_ind = np.append(rl_f_ind,rlf_ind)"
      ]
    },
    {
      "cell_type": "code",
      "execution_count": null,
      "metadata": {
        "id": "rGeWexQIQaQM"
      },
      "outputs": [],
      "source": [
        "print(f\"\\n\\nAvarage Rougue-1 f1 score : { np.average(r1_f) }\")\n",
        "print(f\"Avarage Rougue-2 f1 score : { np.average(r2_f) }\")\n",
        "print(f\"Avarage Rougue-l f1 score : { np.average(rl_f) }\")\n",
        "print(f\"\\n\\nAvarage Rougue-1 f1 score indipendence method : { np.average(r1_f_ind) }\")\n",
        "print(f\"Avarage Rougue-2 f1 score  indipendence method : { np.average(r2_f_ind) }\")\n",
        "print(f\"Avarage Rougue-l f1 score indipendence method : { np.average(rl_f_ind) }\")"
      ]
    },
    {
      "cell_type": "markdown",
      "source": [
        "#Demo"
      ],
      "metadata": {
        "id": "3_skYSe_kAP_"
      }
    },
    {
      "cell_type": "code",
      "source": [
        "from utils import Ensemble"
      ],
      "metadata": {
        "id": "OtF9pLTrkFot"
      },
      "execution_count": 7,
      "outputs": []
    },
    {
      "cell_type": "code",
      "source": [
        "text = \"This paper aims to investigate the extraction of highlights from text utilizing an extractive sentence-based summarization approach. The proposed methodology involves the application of the Transformer-based Highlights Extractor (THExt) model that utilizes contextualized embeddings and transformer models to extract significant paper highlights. The THExt model is fine-tuned using the CNN Daily Email dataset to assess the generalization capability of the proposed method. Additionally, our study proposes an ensemble model that combines non-transformer-based techniques with the THExt model to enhance its effectiveness.\""
      ],
      "metadata": {
        "id": "ZE_VqHVrl_vi"
      },
      "execution_count": 27,
      "outputs": []
    },
    {
      "cell_type": "code",
      "source": [
        "rf = Ensemble('RandomForest')"
      ],
      "metadata": {
        "id": "sAYM2j2Im_JY"
      },
      "execution_count": null,
      "outputs": []
    },
    {
      "cell_type": "code",
      "source": [
        "rf.load(\"random\")"
      ],
      "metadata": {
        "id": "BlE_nbX1nRzY"
      },
      "execution_count": 28,
      "outputs": []
    },
    {
      "cell_type": "code",
      "source": [
        "rf.summary(text)"
      ],
      "metadata": {
        "colab": {
          "base_uri": "https://localhost:8080/",
          "height": 136,
          "referenced_widgets": [
            "a8b64cd95e2c4197b0388fcc083079b3",
            "fe1937e1985f479d93b47b3297f6081d",
            "7921c286b6b84e04bd3a5c7a22e68085",
            "aedd33b924554883bbea7e31bed42e00",
            "5077535ca870493b86263545dda5a5da",
            "ba4b0d2b4ac04c53bf7bb6edc889c932",
            "b294a1326d43438b82529ff69ae8b3a2",
            "1557fa08d2134623bd30ab98077065e2",
            "1e5d3102ba154628ad559db0802e8d8a",
            "ab08271bf91a4aa99bd31e1bbaac4232",
            "4f562306ec49413bb5300a1ae7784d61"
          ]
        },
        "id": "E4MzRcdxnVqo",
        "outputId": "4cd5d145-39ca-484a-9e6f-9f97fc405222"
      },
      "execution_count": 30,
      "outputs": [
        {
          "output_type": "display_data",
          "data": {
            "text/plain": [
              "Batches:   0%|          | 0/1 [00:00<?, ?it/s]"
            ],
            "application/vnd.jupyter.widget-view+json": {
              "version_major": 2,
              "version_minor": 0,
              "model_id": "a8b64cd95e2c4197b0388fcc083079b3"
            }
          },
          "metadata": {}
        },
        {
          "output_type": "execute_result",
          "data": {
            "text/plain": [
              "['The THExt model is fine-tuned using the CNN Daily Email dataset to assess the generalization capability of the proposed method.',\n",
              " 'Additionally, our study proposes an ensemble model that combines non-transformer-based techniques with the THExt model to enhance its effectiveness.',\n",
              " 'This paper aims to investigate the extraction of highlights from text utilizing an extractive sentence-based summarization approach.']"
            ]
          },
          "metadata": {},
          "execution_count": 30
        }
      ]
    }
  ],
  "metadata": {
    "accelerator": "GPU",
    "colab": {
      "provenance": []
    },
    "gpuClass": "standard",
    "kernelspec": {
      "display_name": "Python 3",
      "name": "python3"
    },
    "language_info": {
      "name": "python"
    },
    "widgets": {
      "application/vnd.jupyter.widget-state+json": {
        "a8b64cd95e2c4197b0388fcc083079b3": {
          "model_module": "@jupyter-widgets/controls",
          "model_name": "HBoxModel",
          "model_module_version": "1.5.0",
          "state": {
            "_dom_classes": [],
            "_model_module": "@jupyter-widgets/controls",
            "_model_module_version": "1.5.0",
            "_model_name": "HBoxModel",
            "_view_count": null,
            "_view_module": "@jupyter-widgets/controls",
            "_view_module_version": "1.5.0",
            "_view_name": "HBoxView",
            "box_style": "",
            "children": [
              "IPY_MODEL_fe1937e1985f479d93b47b3297f6081d",
              "IPY_MODEL_7921c286b6b84e04bd3a5c7a22e68085",
              "IPY_MODEL_aedd33b924554883bbea7e31bed42e00"
            ],
            "layout": "IPY_MODEL_5077535ca870493b86263545dda5a5da"
          }
        },
        "fe1937e1985f479d93b47b3297f6081d": {
          "model_module": "@jupyter-widgets/controls",
          "model_name": "HTMLModel",
          "model_module_version": "1.5.0",
          "state": {
            "_dom_classes": [],
            "_model_module": "@jupyter-widgets/controls",
            "_model_module_version": "1.5.0",
            "_model_name": "HTMLModel",
            "_view_count": null,
            "_view_module": "@jupyter-widgets/controls",
            "_view_module_version": "1.5.0",
            "_view_name": "HTMLView",
            "description": "",
            "description_tooltip": null,
            "layout": "IPY_MODEL_ba4b0d2b4ac04c53bf7bb6edc889c932",
            "placeholder": "​",
            "style": "IPY_MODEL_b294a1326d43438b82529ff69ae8b3a2",
            "value": "Batches: 100%"
          }
        },
        "7921c286b6b84e04bd3a5c7a22e68085": {
          "model_module": "@jupyter-widgets/controls",
          "model_name": "FloatProgressModel",
          "model_module_version": "1.5.0",
          "state": {
            "_dom_classes": [],
            "_model_module": "@jupyter-widgets/controls",
            "_model_module_version": "1.5.0",
            "_model_name": "FloatProgressModel",
            "_view_count": null,
            "_view_module": "@jupyter-widgets/controls",
            "_view_module_version": "1.5.0",
            "_view_name": "ProgressView",
            "bar_style": "success",
            "description": "",
            "description_tooltip": null,
            "layout": "IPY_MODEL_1557fa08d2134623bd30ab98077065e2",
            "max": 1,
            "min": 0,
            "orientation": "horizontal",
            "style": "IPY_MODEL_1e5d3102ba154628ad559db0802e8d8a",
            "value": 1
          }
        },
        "aedd33b924554883bbea7e31bed42e00": {
          "model_module": "@jupyter-widgets/controls",
          "model_name": "HTMLModel",
          "model_module_version": "1.5.0",
          "state": {
            "_dom_classes": [],
            "_model_module": "@jupyter-widgets/controls",
            "_model_module_version": "1.5.0",
            "_model_name": "HTMLModel",
            "_view_count": null,
            "_view_module": "@jupyter-widgets/controls",
            "_view_module_version": "1.5.0",
            "_view_name": "HTMLView",
            "description": "",
            "description_tooltip": null,
            "layout": "IPY_MODEL_ab08271bf91a4aa99bd31e1bbaac4232",
            "placeholder": "​",
            "style": "IPY_MODEL_4f562306ec49413bb5300a1ae7784d61",
            "value": " 1/1 [00:00&lt;00:00, 25.99it/s]"
          }
        },
        "5077535ca870493b86263545dda5a5da": {
          "model_module": "@jupyter-widgets/base",
          "model_name": "LayoutModel",
          "model_module_version": "1.2.0",
          "state": {
            "_model_module": "@jupyter-widgets/base",
            "_model_module_version": "1.2.0",
            "_model_name": "LayoutModel",
            "_view_count": null,
            "_view_module": "@jupyter-widgets/base",
            "_view_module_version": "1.2.0",
            "_view_name": "LayoutView",
            "align_content": null,
            "align_items": null,
            "align_self": null,
            "border": null,
            "bottom": null,
            "display": null,
            "flex": null,
            "flex_flow": null,
            "grid_area": null,
            "grid_auto_columns": null,
            "grid_auto_flow": null,
            "grid_auto_rows": null,
            "grid_column": null,
            "grid_gap": null,
            "grid_row": null,
            "grid_template_areas": null,
            "grid_template_columns": null,
            "grid_template_rows": null,
            "height": null,
            "justify_content": null,
            "justify_items": null,
            "left": null,
            "margin": null,
            "max_height": null,
            "max_width": null,
            "min_height": null,
            "min_width": null,
            "object_fit": null,
            "object_position": null,
            "order": null,
            "overflow": null,
            "overflow_x": null,
            "overflow_y": null,
            "padding": null,
            "right": null,
            "top": null,
            "visibility": null,
            "width": null
          }
        },
        "ba4b0d2b4ac04c53bf7bb6edc889c932": {
          "model_module": "@jupyter-widgets/base",
          "model_name": "LayoutModel",
          "model_module_version": "1.2.0",
          "state": {
            "_model_module": "@jupyter-widgets/base",
            "_model_module_version": "1.2.0",
            "_model_name": "LayoutModel",
            "_view_count": null,
            "_view_module": "@jupyter-widgets/base",
            "_view_module_version": "1.2.0",
            "_view_name": "LayoutView",
            "align_content": null,
            "align_items": null,
            "align_self": null,
            "border": null,
            "bottom": null,
            "display": null,
            "flex": null,
            "flex_flow": null,
            "grid_area": null,
            "grid_auto_columns": null,
            "grid_auto_flow": null,
            "grid_auto_rows": null,
            "grid_column": null,
            "grid_gap": null,
            "grid_row": null,
            "grid_template_areas": null,
            "grid_template_columns": null,
            "grid_template_rows": null,
            "height": null,
            "justify_content": null,
            "justify_items": null,
            "left": null,
            "margin": null,
            "max_height": null,
            "max_width": null,
            "min_height": null,
            "min_width": null,
            "object_fit": null,
            "object_position": null,
            "order": null,
            "overflow": null,
            "overflow_x": null,
            "overflow_y": null,
            "padding": null,
            "right": null,
            "top": null,
            "visibility": null,
            "width": null
          }
        },
        "b294a1326d43438b82529ff69ae8b3a2": {
          "model_module": "@jupyter-widgets/controls",
          "model_name": "DescriptionStyleModel",
          "model_module_version": "1.5.0",
          "state": {
            "_model_module": "@jupyter-widgets/controls",
            "_model_module_version": "1.5.0",
            "_model_name": "DescriptionStyleModel",
            "_view_count": null,
            "_view_module": "@jupyter-widgets/base",
            "_view_module_version": "1.2.0",
            "_view_name": "StyleView",
            "description_width": ""
          }
        },
        "1557fa08d2134623bd30ab98077065e2": {
          "model_module": "@jupyter-widgets/base",
          "model_name": "LayoutModel",
          "model_module_version": "1.2.0",
          "state": {
            "_model_module": "@jupyter-widgets/base",
            "_model_module_version": "1.2.0",
            "_model_name": "LayoutModel",
            "_view_count": null,
            "_view_module": "@jupyter-widgets/base",
            "_view_module_version": "1.2.0",
            "_view_name": "LayoutView",
            "align_content": null,
            "align_items": null,
            "align_self": null,
            "border": null,
            "bottom": null,
            "display": null,
            "flex": null,
            "flex_flow": null,
            "grid_area": null,
            "grid_auto_columns": null,
            "grid_auto_flow": null,
            "grid_auto_rows": null,
            "grid_column": null,
            "grid_gap": null,
            "grid_row": null,
            "grid_template_areas": null,
            "grid_template_columns": null,
            "grid_template_rows": null,
            "height": null,
            "justify_content": null,
            "justify_items": null,
            "left": null,
            "margin": null,
            "max_height": null,
            "max_width": null,
            "min_height": null,
            "min_width": null,
            "object_fit": null,
            "object_position": null,
            "order": null,
            "overflow": null,
            "overflow_x": null,
            "overflow_y": null,
            "padding": null,
            "right": null,
            "top": null,
            "visibility": null,
            "width": null
          }
        },
        "1e5d3102ba154628ad559db0802e8d8a": {
          "model_module": "@jupyter-widgets/controls",
          "model_name": "ProgressStyleModel",
          "model_module_version": "1.5.0",
          "state": {
            "_model_module": "@jupyter-widgets/controls",
            "_model_module_version": "1.5.0",
            "_model_name": "ProgressStyleModel",
            "_view_count": null,
            "_view_module": "@jupyter-widgets/base",
            "_view_module_version": "1.2.0",
            "_view_name": "StyleView",
            "bar_color": null,
            "description_width": ""
          }
        },
        "ab08271bf91a4aa99bd31e1bbaac4232": {
          "model_module": "@jupyter-widgets/base",
          "model_name": "LayoutModel",
          "model_module_version": "1.2.0",
          "state": {
            "_model_module": "@jupyter-widgets/base",
            "_model_module_version": "1.2.0",
            "_model_name": "LayoutModel",
            "_view_count": null,
            "_view_module": "@jupyter-widgets/base",
            "_view_module_version": "1.2.0",
            "_view_name": "LayoutView",
            "align_content": null,
            "align_items": null,
            "align_self": null,
            "border": null,
            "bottom": null,
            "display": null,
            "flex": null,
            "flex_flow": null,
            "grid_area": null,
            "grid_auto_columns": null,
            "grid_auto_flow": null,
            "grid_auto_rows": null,
            "grid_column": null,
            "grid_gap": null,
            "grid_row": null,
            "grid_template_areas": null,
            "grid_template_columns": null,
            "grid_template_rows": null,
            "height": null,
            "justify_content": null,
            "justify_items": null,
            "left": null,
            "margin": null,
            "max_height": null,
            "max_width": null,
            "min_height": null,
            "min_width": null,
            "object_fit": null,
            "object_position": null,
            "order": null,
            "overflow": null,
            "overflow_x": null,
            "overflow_y": null,
            "padding": null,
            "right": null,
            "top": null,
            "visibility": null,
            "width": null
          }
        },
        "4f562306ec49413bb5300a1ae7784d61": {
          "model_module": "@jupyter-widgets/controls",
          "model_name": "DescriptionStyleModel",
          "model_module_version": "1.5.0",
          "state": {
            "_model_module": "@jupyter-widgets/controls",
            "_model_module_version": "1.5.0",
            "_model_name": "DescriptionStyleModel",
            "_view_count": null,
            "_view_module": "@jupyter-widgets/base",
            "_view_module_version": "1.2.0",
            "_view_name": "StyleView",
            "description_width": ""
          }
        }
      }
    }
  },
  "nbformat": 4,
  "nbformat_minor": 0
}
