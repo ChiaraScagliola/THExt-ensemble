{
  "cells": [
    {
      "cell_type": "markdown",
      "metadata": {
        "id": "F7rnm0L_Zblp"
      },
      "source": [
        "# Task 1 ( Fine-Tuning CNN Dailymail Dataset )"
      ]
    },
    {
      "cell_type": "code",
      "execution_count": null,
      "metadata": {
        "colab": {
          "base_uri": "https://localhost:8080/"
        },
        "id": "hJ2EeuYyZuy6",
        "outputId": "4f983616-55a3-44f9-a971-f5bdaee6babf"
      },
      "outputs": [
        {
          "name": "stdout",
          "output_type": "stream",
          "text": [
            "Mounted at /content/drive\n"
          ]
        }
      ],
      "source": [
        "from google.colab import drive\n",
        "\n",
        "drive.mount('/content/drive')"
      ]
    },
    {
      "cell_type": "code",
      "execution_count": null,
      "metadata": {
        "colab": {
          "base_uri": "https://localhost:8080/"
        },
        "id": "2QuBUZwuZy4b",
        "outputId": "ab6cc6f8-036b-49dd-ca4e-a81722d0f33f"
      },
      "outputs": [
        {
          "name": "stdout",
          "output_type": "stream",
          "text": [
            "/content/drive/MyDrive/NLP\n"
          ]
        }
      ],
      "source": [
        "%cd /content/drive/MyDrive/NLP/"
      ]
    },
    {
      "cell_type": "code",
      "execution_count": null,
      "metadata": {
        "id": "xtlGAr5pZs6n"
      },
      "outputs": [],
      "source": [
        "from THExt-ensemble import finetuning\n",
        "\n",
        "dataset_fine_tuning_THExt = pd.read_csv(\"dataset_fine_tuning_THExt.csv\") \n",
        "\n",
        "finetunig(dataset_fine_tuning_THExt, \"checkpoint\""
      ]
    },
    {
      "cell_type": "markdown",
      "metadata": {
        "id": "-CT8PCfEIDSZ"
      },
      "source": [
        "Evaluate"
      ]
    },
    {
      "cell_type": "code",
      "execution_count": null,
      "metadata": {
        "id": "dd_-B9iaIE5R"
      },
      "outputs": [],
      "source": [
        "def evaluate(self, text, hs,  sentences):\n",
        "\n",
        "    predicted_highlights_concat = ' '.join(map(str, sentences))\n",
        "    real_highlights_concat =  hs\n",
        "\n",
        "    r_computer = rouge.Rouge(metrics=['rouge-n', 'rouge-l'], limit_length=False, max_n=2, alpha=0.5, stemming=False)\n",
        "    score = r_computer.get_scores(predicted_highlights_concat,real_highlights_concat) \n",
        "\n",
        "    return score['rouge-1']['f'],score['rouge-2']['f'], score['rouge-l']['f']"
      ]
    },
    {
      "cell_type": "code",
      "execution_count": null,
      "metadata": {
        "id": "xZNQi2XkcCqR"
      },
      "outputs": [],
      "source": [
        "data = load_dataset(\"cnn_dailymail\" ,\"3.0.0\", split=\"validation\")\n",
        "data = pd.DataFrame(data).iloc[:1000]"
      ]
    },
    {
      "cell_type": "code",
      "execution_count": null,
      "metadata": {
        "id": "KyTUY934bvFb"
      },
      "outputs": [],
      "source": [
        "model_name_or_path='checkpoint' \n",
        "base_model_name = \"morenolq/thext-cs-scibert\""
      ]
    },
    {
      "cell_type": "code",
      "execution_count": null,
      "metadata": {
        "id": "AlqLTuwTaibN"
      },
      "outputs": [],
      "source": [
        "sr = SentenceRankerPlus(device='cuda')\n",
        "sr.load_model(base_model_name=base_model_name, model_name_or_path=model_name_or_path,device='cuda')\n",
        "rm = RedundancyManager()\n",
        "h = Highlighter(sr, redundancy_manager = rm)"
      ]
    },
    {
      "cell_type": "code",
      "execution_count": null,
      "metadata": {
        "id": "A-PlhWqkbydm"
      },
      "outputs": [],
      "source": [
        "r1_f = np.array([])\n",
        "r2_f = np.array([])\n",
        "rl_f = np.array([])"
      ]
    },
    {
      "cell_type": "code",
      "execution_count": null,
      "metadata": {
        "id": "VINOlLVob81_"
      },
      "outputs": [],
      "source": [
        "text = data.iloc[i]['article']\n",
        "highlights = data.iloc[i]['highlights']\n",
        "\n",
        "sum = h.get_highlights_simple(text, abstract = True, rel_w=1.0, pos_w=0.0, red_w=0.0, prefilter=False, NH = 3)\n",
        "\n",
        "\n",
        "r1f_ind,r2f_ind,rlf_ind = \n",
        "r1f,r2f,rlf = evaluate(text, highlights, sent = sentences)\n",
        "\n",
        "r1_f = np.append(r1_f,r1f)\n",
        "r2_f = np.append(r2_f,r2f)\n",
        "rl_f = np.append(rl_f,rlf)"
      ]
    },
    {
      "cell_type": "code",
      "execution_count": 1,
      "metadata": {
        "colab": {
          "base_uri": "https://localhost:8080/"
        },
        "id": "BgNR_pzFIX2Q",
        "outputId": "4a23976c-7a72-4db2-8c7b-4c93439ce202"
      },
      "outputs": [
        {
          "name": "stdout",
          "output_type": "stream",
          "text": [
            "Avarage Rougue-1 f1 score : 0.2228046546371583\n",
            "Avarage Rougue-2 f1 score : 0.06335872596587086\n",
            "Avarage Rougue-l f1 score : 0.18059221632888572\n"
          ]
        }
      ],
      "source": [
        "print(f\"Avarage Rougue-1 f1 score : { np.average(r1_f) }\")\n",
        "print(f\"Avarage Rougue-2 f1 score : { np.average(r2_f) }\")\n",
        "print(f\"Avarage Rougue-l f1 score : { np.average(rl_f) }\")"
      ]
    },
    {
      "cell_type": "markdown",
      "metadata": {
        "id": "TOXf2gbvsg20"
      },
      "source": [
        "# Task 2 ( Ensamble method )"
      ]
    },
    {
      "cell_type": "code",
      "execution_count": null,
      "metadata": {
        "id": "7dEV05rqJvR1"
      },
      "outputs": [],
      "source": [
        "from datasets import load_dataset\n",
        "import pandas as pd"
      ]
    },
    {
      "cell_type": "code",
      "execution_count": null,
      "metadata": {
        "id": "5X1_81xmB1Qo"
      },
      "outputs": [],
      "source": [
        "from utils import Ensemble\n",
        "from datasets import load_dataset\n",
        "import rouge\n",
        "import pandas as pd\n",
        "import numpy as np\n"
      ]
    },
    {
      "cell_type": "markdown",
      "metadata": {
        "id": "PRk7e8aEF5m6"
      },
      "source": [
        "Fit models"
      ]
    },
    {
      "cell_type": "code",
      "execution_count": null,
      "metadata": {
        "id": "IX5PkKWFCeYb"
      },
      "outputs": [],
      "source": [
        "from sklearn.linear_model import LassoCV\n",
        "\n",
        "random_ensamble = Ensemble(\"RandomForest\")\n",
        "sgd_ensamble = Ensemble(\"sgd\")\n",
        "lasso_ensamble = Ensemble(model = LassoCV(cv=5, random_state=0))\n",
        "\n",
        "data = pd.read_csv(\"data_train.csv\") #specificare nel readme di scaricare il dataset dal drive e metterlo nella cartella\n",
        "\n",
        "X = data[['text_rank', 'lsa_score', 'tf_idf', 'relevance_score', 'thext_score', 'pos_i']]\n",
        "y = data['rouge_2f']\n",
        "\n",
        "random_ensamble.train(X,y)\n",
        "sgd_ensamble.train(X,y)\n",
        "lasso_ensamble.train(X,y)\n",
        "\n",
        "random_ensamble.save(\"random\")\n",
        "sgd_ensamble.save(\"sgd\")\n",
        "lasso_ensamble.save(\"lasso\")\n",
        "\n"
      ]
    },
    {
      "cell_type": "markdown",
      "metadata": {
        "id": "_MFtYMCpIDO8"
      },
      "source": [
        "Test models"
      ]
    },
    {
      "cell_type": "code",
      "execution_count": null,
      "metadata": {
        "id": "r6T5qRcLDD0Y"
      },
      "outputs": [],
      "source": [
        "#random_ensamble.load(\"random\")\n",
        "#sgd_ensamble.load(\"sgd\")\n",
        "#lasso_ensamble.load(\"lasso\")\n",
        "\n",
        "data = load_dataset(\"cnn_dailymail\" ,\"3.0.0\", split=\"validation\")\n",
        "data = pd.DataFrame(data).iloc[:1000]"
      ]
    },
    {
      "cell_type": "code",
      "execution_count": null,
      "metadata": {
        "id": "x0zKqCSjLjPq"
      },
      "outputs": [],
      "source": [
        "def evaluate(model, data):\n",
        "\tr1_f = []\n",
        "\tr2_f = []\n",
        "\trl_f = []\n",
        "\tfor i in range(len(data)):\n",
        "\t\ttext = data.iloc[i]['article']\n",
        "\t\thighlights = data.iloc[i]['highlights']\n",
        "\t\tr1f,r2f,rlf = model.evaluate(text, highlights)\n",
        "\t\tr1_f.append(r1f)\n",
        "\t\tr2_f.append(r2f)\n",
        "\t\trl_f.append(rlf)\n",
        "\tprint(f\"Avarage Rougue-1 f1 score : { np.average(r1_f) }\")\n",
        "\tprint(f\"Avarage Rougue-2 f1 score : { np.average(r2_f) }\")\n",
        "\tprint(f\"Avarage Rougue-l f1 score : { np.average(rl_f) }\")"
      ]
    },
    {
      "cell_type": "code",
      "execution_count": null,
      "metadata": {
        "colab": {
          "base_uri": "https://localhost:8080/"
        },
        "id": "AA9gGQNVIofG",
        "outputId": "d29ba858-6ea8-4a3e-ed99-206c9d16778c"
      },
      "outputs": [
        {
          "name": "stdout",
          "output_type": "stream",
          "text": [
            "Avarage Rougue-1 f1 score : 0.2996940681666996\n",
            "Avarage Rougue-2 f1 score : 0.11720662425077215\n",
            "Avarage Rougue-l f1 score : 0.24533250434085624\n"
          ]
        }
      ],
      "source": [
        "evaluate(random_ensamble, data)"
      ]
    },
    {
      "cell_type": "code",
      "execution_count": null,
      "metadata": {
        "colab": {
          "base_uri": "https://localhost:8080/"
        },
        "id": "cs3H-a4lOuk-",
        "outputId": "ea347ce5-e51c-4216-f4ee-e34f0f25a56b"
      },
      "outputs": [
        {
          "name": "stdout",
          "output_type": "stream",
          "text": [
            "Avarage Rougue-1 f1 score : 0.2457166305993262\n",
            "Avarage Rougue-2 f1 score : 0.07812978592980055\n",
            "Avarage Rougue-l f1 score : 0.20204450552975334\n"
          ]
        }
      ],
      "source": [
        "evaluate(sgd_ensamble, data)"
      ]
    },
    {
      "cell_type": "code",
      "execution_count": null,
      "metadata": {
        "colab": {
          "base_uri": "https://localhost:8080/"
        },
        "id": "DFJ4WXI0PS2w",
        "outputId": "2db7aa55-5a91-4dea-f836-f19f48316768"
      },
      "outputs": [
        {
          "name": "stdout",
          "output_type": "stream",
          "text": [
            "Avarage Rougue-1 f1 score : 0.2457166305993262\n",
            "Avarage Rougue-2 f1 score : 0.07812978592980055\n",
            "Avarage Rougue-l f1 score : 0.20204450552975334\n"
          ]
        }
      ],
      "source": [
        "evaluate(lasso_ensamble, data)"
      ]
    },
    {
      "cell_type": "markdown",
      "metadata": {
        "id": "wWbfZkSTPeVc"
      },
      "source": [
        "Independent set method"
      ]
    },
    {
      "cell_type": "code",
      "execution_count": null,
      "metadata": {
        "id": "VFfrWtCBPzNk"
      },
      "outputs": [],
      "source": [
        "from utils import RedundancyIndipendentSet"
      ]
    },
    {
      "cell_type": "code",
      "execution_count": null,
      "metadata": {
        "id": "6jA-2wakTGeY"
      },
      "outputs": [],
      "source": [
        "random_ensamble = Ensemble(\"RandomForest\")\n",
        "\n",
        "data = load_dataset(\"cnn_dailymail\" ,\"3.0.0\", split=\"validation\")\n",
        "data = pd.DataFrame(data).iloc[:1000]"
      ]
    },
    {
      "cell_type": "code",
      "execution_count": null,
      "metadata": {
        "id": "sSO8zgiQaLva"
      },
      "outputs": [],
      "source": [
        "r = RedundancyIndipendentSet()\n",
        "\n",
        "r1_f = np.array([])\n",
        "r2_f = np.array([])\n",
        "rl_f = np.array([])\n",
        "r1_f_ind = np.array([])\n",
        "r2_f_ind = np.array([])\n",
        "rl_f_ind = np.array([])"
      ]
    },
    {
      "cell_type": "code",
      "execution_count": null,
      "metadata": {
        "id": "XbJdfc6eaGpv"
      },
      "outputs": [],
      "source": [
        "for i in range(len(data)):\n",
        "\n",
        "  text = data.iloc[i]['article']\n",
        "  highlights = data.iloc[i]['highlights']\n",
        "\n",
        "  sum = random_ensamble.summary(text, NH = 3)\n",
        "  sum_redundancy = random_ensamble.summary(text, NH = 5, score=True)\n",
        "  ind = r.indipendent_set(sum_redundancy)\n",
        "\n",
        "  r1f_ind,r2f_ind,rlf_ind = random_ensamble.evaluate(text, highlights, sent = ind )\n",
        "  r1f,r2f,rlf = random_ensamble.evaluate(text, highlights, sent = sum)\n",
        "\n",
        "  r1_f = np.append(r1_f,r1f)\n",
        "  r2_f = np.append(r2_f,r2f)\n",
        "  rl_f = np.append(rl_f,rlf)\n",
        "  r1_f_ind = np.append(r1_f_ind,r1f_ind)\n",
        "  r2_f_ind = np.append(r2_f_ind,r2f_ind)\n",
        "  rl_f_ind = np.append(rl_f_ind,rlf_ind)"
      ]
    },
    {
      "cell_type": "code",
      "execution_count": null,
      "metadata": {
        "colab": {
          "base_uri": "https://localhost:8080/"
        },
        "id": "rGeWexQIQaQM",
        "outputId": "d181379f-f05d-425e-dcad-a1742f2dfb84"
      },
      "outputs": [
        {
          "name": "stdout",
          "output_type": "stream",
          "text": [
            "\n",
            "\n",
            "Avarage Rougue-1 f1 score : 0.2996940681666996\n",
            "Avarage Rougue-2 f1 score : 0.11720662425077215\n",
            "Avarage Rougue-l f1 score : 0.24533250434085624\n",
            "\n",
            "\n",
            "Avarage Rougue-1 f1 score indipendence method : 0.27656139206147884\n",
            "Avarage Rougue-2 f1 score  indipendence method : 0.090964688278289\n",
            "Avarage Rougue-l f1 score indipendence method : 0.22409854793980924\n"
          ]
        }
      ],
      "source": [
        "print(f\"\\n\\nAvarage Rougue-1 f1 score : { np.average(r1_f) }\")\n",
        "print(f\"Avarage Rougue-2 f1 score : { np.average(r2_f) }\")\n",
        "print(f\"Avarage Rougue-l f1 score : { np.average(rl_f) }\")\n",
        "print(f\"\\n\\nAvarage Rougue-1 f1 score indipendence method : { np.average(r1_f_ind) }\")\n",
        "print(f\"Avarage Rougue-2 f1 score  indipendence method : { np.average(r2_f_ind) }\")\n",
        "print(f\"Avarage Rougue-l f1 score indipendence method : { np.average(rl_f_ind) }\")"
      ]
    }
  ],
  "metadata": {
    "colab": {
      "provenance": []
    },
    "kernelspec": {
      "display_name": "Python 3",
      "name": "python3"
    },
    "language_info": {
      "name": "python"
    }
  },
  "nbformat": 4,
  "nbformat_minor": 0
}
