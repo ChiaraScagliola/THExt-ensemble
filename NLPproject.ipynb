{
  "nbformat": 4,
  "nbformat_minor": 0,
  "metadata": {
    "colab": {
      "provenance": []
    },
    "kernelspec": {
      "name": "python3",
      "display_name": "Python 3"
    },
    "language_info": {
      "name": "python"
    }
  },
  "cells": [
    {
      "cell_type": "markdown",
      "source": [
        "# Task 1 ( Fine-Tuning CNN Dailymail Dataset )"
      ],
      "metadata": {
        "id": "F7rnm0L_Zblp"
      }
    },
    {
      "cell_type": "code",
      "source": [
        "from google.colab import drive\n",
        "\n",
        "drive.mount('/content/drive')"
      ],
      "metadata": {
        "colab": {
          "base_uri": "https://localhost:8080/"
        },
        "id": "hJ2EeuYyZuy6",
        "outputId": "f8651b69-4bf7-4305-84f5-44c18584edf0"
      },
      "execution_count": 1,
      "outputs": [
        {
          "output_type": "stream",
          "name": "stdout",
          "text": [
            "Mounted at /content/drive\n"
          ]
        }
      ]
    },
    {
      "cell_type": "code",
      "source": [
        "%cd /content/drive/MyDrive/NLP/"
      ],
      "metadata": {
        "colab": {
          "base_uri": "https://localhost:8080/"
        },
        "id": "2QuBUZwuZy4b",
        "outputId": "ab6cc6f8-036b-49dd-ca4e-a81722d0f33f"
      },
      "execution_count": 2,
      "outputs": [
        {
          "output_type": "stream",
          "name": "stdout",
          "text": [
            "/content/drive/MyDrive/NLP\n"
          ]
        }
      ]
    },
    {
      "cell_type": "code",
      "source": [
        "from Thextensemble.utils.train import finetuning"
      ],
      "metadata": {
        "id": "gK7-J-39gD7Q"
      },
      "execution_count": null,
      "outputs": []
    },
    {
      "cell_type": "markdown",
      "source": [
        "# nel .py finetuning si mette un funzione che ci permette di fare il fine tuning del modello di bert usando un certo dataset che viene passato."
      ],
      "metadata": {
        "id": "fVh2Q8zDgNWI"
      }
    }
  ]
}